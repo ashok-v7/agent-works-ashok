{
 "cells": [
  {
   "cell_type": "code",
   "execution_count": null,
   "metadata": {},
   "outputs": [
    {
     "name": "stdout",
     "output_type": "stream",
     "text": [
      "/bin/bash: /home/akv/Documents/practical-ai/Pro-Agent-Hugfce/agenv1/bin/pip: /home/akv/Documents/practical-ai/pro-agent-hugfce/agenv1/bin/python: bad interpreter: No such file or directory\n"
     ]
    }
   ],
   "source": [
    "!pip install typing-extensions  ipython "
   ]
  },
  {
   "cell_type": "code",
   "execution_count": 7,
   "metadata": {},
   "outputs": [
    {
     "ename": "ModuleNotFoundError",
     "evalue": "No module named 'langgraph'",
     "output_type": "error",
     "traceback": [
      "\u001b[0;31m---------------------------------------------------------------------------\u001b[0m",
      "\u001b[0;31mModuleNotFoundError\u001b[0m                       Traceback (most recent call last)",
      "Cell \u001b[0;32mIn[7], line 2\u001b[0m\n\u001b[1;32m      1\u001b[0m \u001b[38;5;28;01mfrom\u001b[39;00m\u001b[38;5;250m \u001b[39m\u001b[38;5;21;01mtyping_extensions\u001b[39;00m\u001b[38;5;250m \u001b[39m\u001b[38;5;28;01mimport\u001b[39;00m TypedDict\n\u001b[0;32m----> 2\u001b[0m \u001b[38;5;28;01mfrom\u001b[39;00m\u001b[38;5;250m \u001b[39m\u001b[38;5;21;01mlanggraph\u001b[39;00m\u001b[38;5;21;01m.\u001b[39;00m\u001b[38;5;21;01mgraph\u001b[39;00m\u001b[38;5;250m \u001b[39m\u001b[38;5;28;01mimport\u001b[39;00m StateGraph, START, END\n\u001b[1;32m      3\u001b[0m \u001b[38;5;28;01mfrom\u001b[39;00m\u001b[38;5;250m \u001b[39m\u001b[38;5;21;01mIPython\u001b[39;00m\u001b[38;5;21;01m.\u001b[39;00m\u001b[38;5;21;01mdisplay\u001b[39;00m\u001b[38;5;250m \u001b[39m\u001b[38;5;28;01mimport\u001b[39;00m Image, display\n\u001b[1;32m      4\u001b[0m \u001b[38;5;28;01mfrom\u001b[39;00m\u001b[38;5;250m \u001b[39m\u001b[38;5;21;01mtyping\u001b[39;00m\u001b[38;5;250m \u001b[39m\u001b[38;5;28;01mimport\u001b[39;00m Annotated\n",
      "\u001b[0;31mModuleNotFoundError\u001b[0m: No module named 'langgraph'"
     ]
    }
   ],
   "source": [
    "from typing_extensions import TypedDict\n",
    "from langgraph.graph import StateGraph, START, END\n",
    "from IPython.display import Image, display\n",
    "from typing import Annotated\n",
    "from operator import add\n",
    "\n",
    "\n",
    "# Graph state\n",
    "class State(TypedDict):\n",
    "    code: str\n",
    "    description: str\n",
    "    testcases: str\n",
    "    reviewed_code:str\n",
    "    code_approved:str"
   ]
  },
  {
   "cell_type": "markdown",
   "metadata": {},
   "source": [
    "\n",
    "AI agent using LangGraph and Groq API\n",
    "\n",
    "What Does My Agent Do?\n",
    "\n",
    "Designed to \n",
    "* Generate code\n",
    "* Write test cases \n",
    "* Review code\n",
    "* Manage approvals\n",
    "\n",
    "automated code review system. It uses an LLM to generate code, write test cases, suggest improvements, and finally, simulate a managerial approval process. The workflow is visually represented as a DAG, enhancing understanding and maintainability. \n",
    "The system is designed to iterate if the manager rejects the code, sending it back for further development and review."
   ]
  },
  {
   "cell_type": "code",
   "execution_count": null,
   "metadata": {},
   "outputs": [],
   "source": [
    "!pip install dotenv"
   ]
  },
  {
   "cell_type": "code",
   "execution_count": null,
   "metadata": {},
   "outputs": [],
   "source": [
    "!pip install langchain-groq"
   ]
  },
  {
   "cell_type": "code",
   "execution_count": 9,
   "metadata": {},
   "outputs": [],
   "source": [
    "import os\n",
    "from dotenv import load_dotenv\n",
    "load_dotenv()\n",
    "\n",
    "from langchain_groq import ChatGroq\n",
    "\n",
    "os.environ[\"GROQ_API_KEY\"]=os.getenv(\"GROQ_API_KEY\")"
   ]
  },
  {
   "cell_type": "code",
   "execution_count": null,
   "metadata": {},
   "outputs": [],
   "source": [
    "llm=ChatGroq(model=\"qwen-2.5-32b\")\n",
    "#llm = ChatOpenAI(model=\"gpt-4o\")\n",
    "result=llm.invoke(\"who are you\")\n",
    "result"
   ]
  },
  {
   "cell_type": "code",
   "execution_count": null,
   "metadata": {},
   "outputs": [],
   "source": [
    "# Nodes\n",
    "def developer(state: State):\n",
    "    \"\"\"First LLM call to generate code\"\"\"\n",
    "    msg = llm.invoke(f\"Write a code in programming language {state['description']}\")\n",
    "    return {\"code\": msg.content}\n",
    "\n",
    "def check_approved(state: State):\n",
    "    \"\"\"Gate function to check if the code approved or not\"\"\"\n",
    "    if \"approved\" in state[\"code_approved\"] or \"pass code\" in state[\"code_approved\"]:\n",
    "        return \"Pass\"\n",
    "    return \"Fail\"\n",
    "\n",
    "# def code_improvements(state:State):\n",
    "#     \"\"\"check if there are any improvements suggestions given\"\"\"\n",
    "#     if \"improved\" in state[\"reviewed_code\"]:\n",
    "#         return \"Fail\"\n",
    "#     return \"Pass\"\n",
    "\n",
    "def write_testcases(state: State):\n",
    "    \"\"\"llm call to write the test cases for the code\"\"\"\n",
    "    msg = llm.invoke(f\"can you please write test cases for the following code: {state['code']}\")\n",
    "    return {\"testcases\": msg.content}\n",
    "\n",
    "\n",
    "def reviewer(state: State):\n",
    "    \"\"\"Second LLM call to review  the code\"\"\"\n",
    "    msg = llm.invoke(f\"Make this code more efficient by giving suggestions with suggestions: {state['code']}\")\n",
    "    print(msg.content)\n",
    "    return {\"reviewed_code\": msg.content}\n",
    "\n",
    "\n",
    "def manager(state: State):\n",
    "    \"\"\"Third LLM call for manager review\"\"\"\n",
    "    msg = llm.invoke(f\"act like a manager on the code given by reviewer and approves if it looks code good 'Pass' else gives 'Fail': {state['reviewed_code']}\")\n",
    "    return {\"code_approved\": msg.content}\n",
    "\n",
    "\n",
    "# Build workflow\n",
    "workflow = StateGraph(State)\n",
    "\n",
    "# Add nodes\n",
    "workflow.add_node(\"developer\", developer)\n",
    "workflow.add_node(\"write_testcases\", write_testcases)\n",
    "workflow.add_node(\"reviewer\", reviewer)\n",
    "workflow.add_node(\"manager\", manager)\n",
    "\n",
    "# Add edges to connect nodes\n",
    "workflow.add_edge(START, \"developer\")\n",
    "workflow.add_edge(\"developer\", \"write_testcases\")\n",
    "workflow.add_edge(\"write_testcases\", \"reviewer\")\n",
    "#give suggestions for code improvements\n",
    "# workflow.add_conditional_edges(\n",
    "#     \"reviewer\",code_improvements, {\"Fail\": \"developer\", \"Pass\": \"manager\"}\n",
    "# )\n",
    "workflow.add_conditional_edges(\n",
    "    \"manager\",check_approved, {\"Fail\": \"developer\", \"Pass\": END}\n",
    ")\n",
    "workflow.add_edge(\"reviewer\", \"manager\")\n",
    "workflow.add_edge(\"manager\", END)\n",
    "\n",
    "# Compile\n",
    "chain = workflow.compile()\n",
    "\n",
    "# Show workflow\n",
    "display(Image(chain.get_graph().draw_mermaid_png()))\n",
    "\n",
    "# Invoke\n",
    "state = chain.invoke({\"description\": \"write a python code  to print first 10 numbers\"})\n",
    "print(\"\\n--- --- ---\\n\")\n",
    "if 'code' in state:\n",
    "    print(state['code'])\n",
    "else:\n",
    "    print(\"code is not present\")\n",
    "    \n",
    "if \"testcases\" in state:\n",
    "    print(state['testcases'])\n",
    "    print(\"\\n--- --- ---\\n\")\n",
    "\n",
    "    print(\"Final code:\")\n",
    "else:\n",
    "    print(\" gate - test no code detected!\")\n",
    "\n",
    "if \"code_approved\" in state:\n",
    "    print(\"code_approved.....\")\n",
    "    print(state[\"code_approved\"])"
   ]
  }
 ],
 "metadata": {
  "kernelspec": {
   "display_name": "Python 3",
   "language": "python",
   "name": "python3"
  },
  "language_info": {
   "codemirror_mode": {
    "name": "ipython",
    "version": 3
   },
   "file_extension": ".py",
   "mimetype": "text/x-python",
   "name": "python",
   "nbconvert_exporter": "python",
   "pygments_lexer": "ipython3",
   "version": "3.12.0"
  }
 },
 "nbformat": 4,
 "nbformat_minor": 2
}
